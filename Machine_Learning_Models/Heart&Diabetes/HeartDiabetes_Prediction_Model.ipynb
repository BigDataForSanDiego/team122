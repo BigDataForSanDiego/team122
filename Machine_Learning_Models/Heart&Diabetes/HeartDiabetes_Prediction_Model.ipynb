{
  "cells": [
    {
      "cell_type": "code",
      "execution_count": 19,
      "id": "39a9c0f8",
      "metadata": {
        "colab": {
          "base_uri": "https://localhost:8080/"
        },
        "id": "39a9c0f8",
        "outputId": "1e05788d-9c65-4dba-a53f-53d266cd1aef"
      },
      "outputs": [
        {
          "output_type": "stream",
          "name": "stdout",
          "text": [
            "Looking in indexes: https://pypi.org/simple, https://us-python.pkg.dev/colab-wheels/public/simple/\n",
            "Requirement already satisfied: tensorflow in /usr/local/lib/python3.7/dist-packages (2.9.2)\n",
            "Requirement already satisfied: termcolor>=1.1.0 in /usr/local/lib/python3.7/dist-packages (from tensorflow) (2.0.1)\n",
            "Requirement already satisfied: astunparse>=1.6.0 in /usr/local/lib/python3.7/dist-packages (from tensorflow) (1.6.3)\n",
            "Requirement already satisfied: tensorflow-estimator<2.10.0,>=2.9.0rc0 in /usr/local/lib/python3.7/dist-packages (from tensorflow) (2.9.0)\n",
            "Requirement already satisfied: gast<=0.4.0,>=0.2.1 in /usr/local/lib/python3.7/dist-packages (from tensorflow) (0.4.0)\n",
            "Requirement already satisfied: h5py>=2.9.0 in /usr/local/lib/python3.7/dist-packages (from tensorflow) (3.1.0)\n",
            "Requirement already satisfied: opt-einsum>=2.3.2 in /usr/local/lib/python3.7/dist-packages (from tensorflow) (3.3.0)\n",
            "Requirement already satisfied: libclang>=13.0.0 in /usr/local/lib/python3.7/dist-packages (from tensorflow) (14.0.6)\n",
            "Requirement already satisfied: six>=1.12.0 in /usr/local/lib/python3.7/dist-packages (from tensorflow) (1.15.0)\n",
            "Requirement already satisfied: tensorflow-io-gcs-filesystem>=0.23.1 in /usr/local/lib/python3.7/dist-packages (from tensorflow) (0.27.0)\n",
            "Requirement already satisfied: setuptools in /usr/local/lib/python3.7/dist-packages (from tensorflow) (57.4.0)\n",
            "Requirement already satisfied: keras-preprocessing>=1.1.1 in /usr/local/lib/python3.7/dist-packages (from tensorflow) (1.1.2)\n",
            "Requirement already satisfied: absl-py>=1.0.0 in /usr/local/lib/python3.7/dist-packages (from tensorflow) (1.2.0)\n",
            "Requirement already satisfied: packaging in /usr/local/lib/python3.7/dist-packages (from tensorflow) (21.3)\n",
            "Requirement already satisfied: typing-extensions>=3.6.6 in /usr/local/lib/python3.7/dist-packages (from tensorflow) (4.1.1)\n",
            "Requirement already satisfied: protobuf<3.20,>=3.9.2 in /usr/local/lib/python3.7/dist-packages (from tensorflow) (3.17.3)\n",
            "Requirement already satisfied: grpcio<2.0,>=1.24.3 in /usr/local/lib/python3.7/dist-packages (from tensorflow) (1.49.1)\n",
            "Requirement already satisfied: keras<2.10.0,>=2.9.0rc0 in /usr/local/lib/python3.7/dist-packages (from tensorflow) (2.9.0)\n",
            "Requirement already satisfied: flatbuffers<2,>=1.12 in /usr/local/lib/python3.7/dist-packages (from tensorflow) (1.12)\n",
            "Requirement already satisfied: wrapt>=1.11.0 in /usr/local/lib/python3.7/dist-packages (from tensorflow) (1.14.1)\n",
            "Requirement already satisfied: google-pasta>=0.1.1 in /usr/local/lib/python3.7/dist-packages (from tensorflow) (0.2.0)\n",
            "Requirement already satisfied: tensorboard<2.10,>=2.9 in /usr/local/lib/python3.7/dist-packages (from tensorflow) (2.9.1)\n",
            "Requirement already satisfied: numpy>=1.20 in /usr/local/lib/python3.7/dist-packages (from tensorflow) (1.21.6)\n",
            "Requirement already satisfied: wheel<1.0,>=0.23.0 in /usr/local/lib/python3.7/dist-packages (from astunparse>=1.6.0->tensorflow) (0.37.1)\n",
            "Requirement already satisfied: cached-property in /usr/local/lib/python3.7/dist-packages (from h5py>=2.9.0->tensorflow) (1.5.2)\n",
            "Requirement already satisfied: werkzeug>=1.0.1 in /usr/local/lib/python3.7/dist-packages (from tensorboard<2.10,>=2.9->tensorflow) (1.0.1)\n",
            "Requirement already satisfied: markdown>=2.6.8 in /usr/local/lib/python3.7/dist-packages (from tensorboard<2.10,>=2.9->tensorflow) (3.4.1)\n",
            "Requirement already satisfied: tensorboard-plugin-wit>=1.6.0 in /usr/local/lib/python3.7/dist-packages (from tensorboard<2.10,>=2.9->tensorflow) (1.8.1)\n",
            "Requirement already satisfied: google-auth-oauthlib<0.5,>=0.4.1 in /usr/local/lib/python3.7/dist-packages (from tensorboard<2.10,>=2.9->tensorflow) (0.4.6)\n",
            "Requirement already satisfied: google-auth<3,>=1.6.3 in /usr/local/lib/python3.7/dist-packages (from tensorboard<2.10,>=2.9->tensorflow) (1.35.0)\n",
            "Requirement already satisfied: tensorboard-data-server<0.7.0,>=0.6.0 in /usr/local/lib/python3.7/dist-packages (from tensorboard<2.10,>=2.9->tensorflow) (0.6.1)\n",
            "Requirement already satisfied: requests<3,>=2.21.0 in /usr/local/lib/python3.7/dist-packages (from tensorboard<2.10,>=2.9->tensorflow) (2.23.0)\n",
            "Requirement already satisfied: pyasn1-modules>=0.2.1 in /usr/local/lib/python3.7/dist-packages (from google-auth<3,>=1.6.3->tensorboard<2.10,>=2.9->tensorflow) (0.2.8)\n",
            "Requirement already satisfied: cachetools<5.0,>=2.0.0 in /usr/local/lib/python3.7/dist-packages (from google-auth<3,>=1.6.3->tensorboard<2.10,>=2.9->tensorflow) (4.2.4)\n",
            "Requirement already satisfied: rsa<5,>=3.1.4 in /usr/local/lib/python3.7/dist-packages (from google-auth<3,>=1.6.3->tensorboard<2.10,>=2.9->tensorflow) (4.9)\n",
            "Requirement already satisfied: requests-oauthlib>=0.7.0 in /usr/local/lib/python3.7/dist-packages (from google-auth-oauthlib<0.5,>=0.4.1->tensorboard<2.10,>=2.9->tensorflow) (1.3.1)\n",
            "Requirement already satisfied: importlib-metadata>=4.4 in /usr/local/lib/python3.7/dist-packages (from markdown>=2.6.8->tensorboard<2.10,>=2.9->tensorflow) (5.0.0)\n",
            "Requirement already satisfied: zipp>=0.5 in /usr/local/lib/python3.7/dist-packages (from importlib-metadata>=4.4->markdown>=2.6.8->tensorboard<2.10,>=2.9->tensorflow) (3.9.0)\n",
            "Requirement already satisfied: pyasn1<0.5.0,>=0.4.6 in /usr/local/lib/python3.7/dist-packages (from pyasn1-modules>=0.2.1->google-auth<3,>=1.6.3->tensorboard<2.10,>=2.9->tensorflow) (0.4.8)\n",
            "Requirement already satisfied: certifi>=2017.4.17 in /usr/local/lib/python3.7/dist-packages (from requests<3,>=2.21.0->tensorboard<2.10,>=2.9->tensorflow) (2022.9.24)\n",
            "Requirement already satisfied: urllib3!=1.25.0,!=1.25.1,<1.26,>=1.21.1 in /usr/local/lib/python3.7/dist-packages (from requests<3,>=2.21.0->tensorboard<2.10,>=2.9->tensorflow) (1.24.3)\n",
            "Requirement already satisfied: chardet<4,>=3.0.2 in /usr/local/lib/python3.7/dist-packages (from requests<3,>=2.21.0->tensorboard<2.10,>=2.9->tensorflow) (3.0.4)\n",
            "Requirement already satisfied: idna<3,>=2.5 in /usr/local/lib/python3.7/dist-packages (from requests<3,>=2.21.0->tensorboard<2.10,>=2.9->tensorflow) (2.10)\n",
            "Requirement already satisfied: oauthlib>=3.0.0 in /usr/local/lib/python3.7/dist-packages (from requests-oauthlib>=0.7.0->google-auth-oauthlib<0.5,>=0.4.1->tensorboard<2.10,>=2.9->tensorflow) (3.2.1)\n",
            "Requirement already satisfied: pyparsing!=3.0.5,>=2.0.2 in /usr/local/lib/python3.7/dist-packages (from packaging->tensorflow) (3.0.9)\n",
            "Looking in indexes: https://pypi.org/simple, https://us-python.pkg.dev/colab-wheels/public/simple/\n",
            "Requirement already satisfied: pandas in /usr/local/lib/python3.7/dist-packages (1.3.5)\n",
            "Requirement already satisfied: pytz>=2017.3 in /usr/local/lib/python3.7/dist-packages (from pandas) (2022.4)\n",
            "Requirement already satisfied: numpy>=1.17.3 in /usr/local/lib/python3.7/dist-packages (from pandas) (1.21.6)\n",
            "Requirement already satisfied: python-dateutil>=2.7.3 in /usr/local/lib/python3.7/dist-packages (from pandas) (2.8.2)\n",
            "Requirement already satisfied: six>=1.5 in /usr/local/lib/python3.7/dist-packages (from python-dateutil>=2.7.3->pandas) (1.15.0)\n",
            "Looking in indexes: https://pypi.org/simple, https://us-python.pkg.dev/colab-wheels/public/simple/\n",
            "Requirement already satisfied: numpy in /usr/local/lib/python3.7/dist-packages (1.21.6)\n",
            "Looking in indexes: https://pypi.org/simple, https://us-python.pkg.dev/colab-wheels/public/simple/\n",
            "Requirement already satisfied: sklearn in /usr/local/lib/python3.7/dist-packages (0.0)\n",
            "Requirement already satisfied: scikit-learn in /usr/local/lib/python3.7/dist-packages (from sklearn) (1.0.2)\n",
            "Requirement already satisfied: threadpoolctl>=2.0.0 in /usr/local/lib/python3.7/dist-packages (from scikit-learn->sklearn) (3.1.0)\n",
            "Requirement already satisfied: scipy>=1.1.0 in /usr/local/lib/python3.7/dist-packages (from scikit-learn->sklearn) (1.7.3)\n",
            "Requirement already satisfied: joblib>=0.11 in /usr/local/lib/python3.7/dist-packages (from scikit-learn->sklearn) (1.2.0)\n",
            "Requirement already satisfied: numpy>=1.14.6 in /usr/local/lib/python3.7/dist-packages (from scikit-learn->sklearn) (1.21.6)\n",
            "Looking in indexes: https://pypi.org/simple, https://us-python.pkg.dev/colab-wheels/public/simple/\n",
            "Requirement already satisfied: xgboost in /usr/local/lib/python3.7/dist-packages (0.90)\n",
            "Requirement already satisfied: numpy in /usr/local/lib/python3.7/dist-packages (from xgboost) (1.21.6)\n",
            "Requirement already satisfied: scipy in /usr/local/lib/python3.7/dist-packages (from xgboost) (1.7.3)\n",
            "Looking in indexes: https://pypi.org/simple, https://us-python.pkg.dev/colab-wheels/public/simple/\n",
            "Requirement already satisfied: seaborn in /usr/local/lib/python3.7/dist-packages (0.11.2)\n",
            "Requirement already satisfied: numpy>=1.15 in /usr/local/lib/python3.7/dist-packages (from seaborn) (1.21.6)\n",
            "Requirement already satisfied: pandas>=0.23 in /usr/local/lib/python3.7/dist-packages (from seaborn) (1.3.5)\n",
            "Requirement already satisfied: matplotlib>=2.2 in /usr/local/lib/python3.7/dist-packages (from seaborn) (3.2.2)\n",
            "Requirement already satisfied: scipy>=1.0 in /usr/local/lib/python3.7/dist-packages (from seaborn) (1.7.3)\n",
            "Requirement already satisfied: cycler>=0.10 in /usr/local/lib/python3.7/dist-packages (from matplotlib>=2.2->seaborn) (0.11.0)\n",
            "Requirement already satisfied: python-dateutil>=2.1 in /usr/local/lib/python3.7/dist-packages (from matplotlib>=2.2->seaborn) (2.8.2)\n",
            "Requirement already satisfied: pyparsing!=2.0.4,!=2.1.2,!=2.1.6,>=2.0.1 in /usr/local/lib/python3.7/dist-packages (from matplotlib>=2.2->seaborn) (3.0.9)\n",
            "Requirement already satisfied: kiwisolver>=1.0.1 in /usr/local/lib/python3.7/dist-packages (from matplotlib>=2.2->seaborn) (1.4.4)\n",
            "Requirement already satisfied: typing-extensions in /usr/local/lib/python3.7/dist-packages (from kiwisolver>=1.0.1->matplotlib>=2.2->seaborn) (4.1.1)\n",
            "Requirement already satisfied: pytz>=2017.3 in /usr/local/lib/python3.7/dist-packages (from pandas>=0.23->seaborn) (2022.4)\n",
            "Requirement already satisfied: six>=1.5 in /usr/local/lib/python3.7/dist-packages (from python-dateutil>=2.1->matplotlib>=2.2->seaborn) (1.15.0)\n"
          ]
        }
      ],
      "source": [
        "import sys\n",
        "!{sys.executable} -m pip install tensorflow\n",
        "!{sys.executable} -m pip install pandas\n",
        "!{sys.executable} -m pip install numpy\n",
        "!{sys.executable} -m pip install sklearn\n",
        "!{sys.executable} -m pip install xgboost\n",
        "!{sys.executable} -m pip install seaborn"
      ]
    },
    {
      "cell_type": "code",
      "execution_count": 24,
      "id": "68a201d4",
      "metadata": {
        "pycharm": {
          "is_executing": true,
          "name": "#%%\n"
        },
        "id": "68a201d4"
      },
      "outputs": [],
      "source": [
        "import pandas as pd\n",
        "import numpy as np\n",
        "from sklearn.model_selection import train_test_split\n",
        "from sklearn import preprocessing\n",
        "import tensorflow as tf\n",
        "from tensorflow.keras.models import Sequential \n",
        "from tensorflow.keras.layers import Dense, Dropout\n",
        "from tensorflow.keras.layers import BatchNormalization\n",
        "from tensorflow.keras import optimizers\n",
        "from sklearn.metrics import confusion_matrix, classification_report\n",
        "from matplotlib import pyplot as plt\n",
        "import seaborn as sb"
      ]
    },
    {
      "cell_type": "code",
      "execution_count": 25,
      "id": "10eefea5",
      "metadata": {
        "pycharm": {
          "name": "#%%\n"
        },
        "id": "10eefea5"
      },
      "outputs": [],
      "source": [
        "load = pd.read_csv(\"CDC_Survey_2015.csv\", low_memory = False)\n",
        "df_fill_na = load.replace(r'^\\s*$', np.nan, regex=True)\n",
        "df = df_fill_na.dropna()\n",
        "df = df.applymap(str)\n",
        "\n",
        "arrBMI = np.array(df['BMI']).astype(np.float32)\n",
        "df = df.drop(['BMI'], axis=1)\n",
        "newAtt = []\n",
        "for i in range(len(arrBMI)):\n",
        "  if arrBMI[i] < 18.5:\n",
        "    newAtt.append('0')  #Underweight\n",
        "  elif arrBMI[i] < 25.:\n",
        "    newAtt.append('1')  #Normal weight\n",
        "  elif arrBMI[i] < 30.:\n",
        "    newAtt.append('2')  #Overweight\n",
        "  elif arrBMI[i] < 35.:\n",
        "    newAtt.append('3')  #Obese\n",
        "  else:\n",
        "    newAtt.append('4')  #Extremely Obese\n",
        "\n",
        "df.insert(0, 'BMI', newAtt)\n",
        "        \n",
        "arrHeart = np.array(df['HeartDiseaseorAttack'])\n",
        "arrDia = np.array(df['Diabetes_011'])\n",
        "df = df.drop(['HeartDiseaseorAttack', 'Diabetes_011'], axis=1)\n",
        "newAtt = []\n",
        "for i in range(len(arrHeart)):\n",
        "    if arrHeart[i] == '0':\n",
        "        if arrDia[i] == '0':\n",
        "            newAtt.append('0') #No Heart disease, No Diabetes\n",
        "        else:\n",
        "            newAtt.append('1') #No Heart disease, Yes Diabetes\n",
        "    else:\n",
        "        if arrDia[i] == '0':\n",
        "            newAtt.append('2') #Yes Heart disease, No Diabetes\n",
        "        else:\n",
        "            newAtt.append('3') #Yes Heart disease, Yes Diabetes\n",
        "\n",
        "df.insert(0, 'HEART/DIA', newAtt)\n",
        "\n",
        "new_df = df.groupby('HEART/DIA').sample(n=3500)"
      ]
    },
    {
      "cell_type": "code",
      "execution_count": 26,
      "id": "95c6cb1a",
      "metadata": {
        "pycharm": {
          "name": "#%%\n"
        },
        "id": "95c6cb1a"
      },
      "outputs": [],
      "source": [
        "label_encoder = preprocessing.LabelEncoder()\n",
        "new_df['HEART/DIA']= label_encoder.fit_transform(new_df['HEART/DIA'])\n",
        "\n",
        "X = np.array(new_df.drop('HEART/DIA', axis=1)).astype(np.float32)\n",
        "y = np.array(new_df['HEART/DIA']).astype(np.float32).flatten()\n",
        "\n",
        "x_train, x_test, y_train, y_test = train_test_split(X,y ,\n",
        "                                   random_state=104, \n",
        "                                   test_size=0.25, \n",
        "                                   shuffle=True)"
      ]
    },
    {
      "cell_type": "code",
      "source": [],
      "metadata": {
        "id": "u_QNgags-Avs"
      },
      "id": "u_QNgags-Avs",
      "execution_count": null,
      "outputs": []
    },
    {
      "cell_type": "code",
      "execution_count": 33,
      "id": "99ac08ce",
      "metadata": {
        "pycharm": {
          "name": "#%%\n"
        },
        "colab": {
          "base_uri": "https://localhost:8080/"
        },
        "id": "99ac08ce",
        "outputId": "d2211e8e-0f77-46db-c9ed-00aaa4353155"
      },
      "outputs": [
        {
          "output_type": "stream",
          "name": "stdout",
          "text": [
            "Epoch 1/40\n",
            "329/329 [==============================] - 3s 3ms/step - loss: 1.1744 - accuracy: 0.4702\n",
            "Epoch 2/40\n",
            "329/329 [==============================] - 1s 3ms/step - loss: 1.1464 - accuracy: 0.4808\n",
            "Epoch 3/40\n",
            "329/329 [==============================] - 1s 3ms/step - loss: 1.1413 - accuracy: 0.4849\n",
            "Epoch 4/40\n",
            "329/329 [==============================] - 1s 3ms/step - loss: 1.1387 - accuracy: 0.4875\n",
            "Epoch 5/40\n",
            "329/329 [==============================] - 1s 3ms/step - loss: 1.1382 - accuracy: 0.4896\n",
            "Epoch 6/40\n",
            "329/329 [==============================] - 1s 3ms/step - loss: 1.1358 - accuracy: 0.4907\n",
            "Epoch 7/40\n",
            "329/329 [==============================] - 1s 3ms/step - loss: 1.1345 - accuracy: 0.4902\n",
            "Epoch 8/40\n",
            "329/329 [==============================] - 1s 3ms/step - loss: 1.1337 - accuracy: 0.4890\n",
            "Epoch 9/40\n",
            "329/329 [==============================] - 1s 3ms/step - loss: 1.1314 - accuracy: 0.4922\n",
            "Epoch 10/40\n",
            "329/329 [==============================] - 1s 3ms/step - loss: 1.1311 - accuracy: 0.4935\n",
            "Epoch 11/40\n",
            "329/329 [==============================] - 1s 3ms/step - loss: 1.1287 - accuracy: 0.4923\n",
            "Epoch 12/40\n",
            "329/329 [==============================] - 1s 3ms/step - loss: 1.1309 - accuracy: 0.4929\n",
            "Epoch 13/40\n",
            "329/329 [==============================] - 1s 3ms/step - loss: 1.1278 - accuracy: 0.4910\n",
            "Epoch 14/40\n",
            "329/329 [==============================] - 1s 3ms/step - loss: 1.1244 - accuracy: 0.4952\n",
            "Epoch 15/40\n",
            "329/329 [==============================] - 1s 3ms/step - loss: 1.1257 - accuracy: 0.4925\n",
            "Epoch 16/40\n",
            "329/329 [==============================] - 1s 3ms/step - loss: 1.1252 - accuracy: 0.4910\n",
            "Epoch 17/40\n",
            "329/329 [==============================] - 1s 3ms/step - loss: 1.1294 - accuracy: 0.4944\n",
            "Epoch 18/40\n",
            "329/329 [==============================] - 1s 3ms/step - loss: 1.1233 - accuracy: 0.4956\n",
            "Epoch 19/40\n",
            "329/329 [==============================] - 1s 3ms/step - loss: 1.1232 - accuracy: 0.4941\n",
            "Epoch 20/40\n",
            "329/329 [==============================] - 1s 3ms/step - loss: 1.1237 - accuracy: 0.4933\n",
            "Epoch 21/40\n",
            "329/329 [==============================] - 1s 3ms/step - loss: 1.1222 - accuracy: 0.4975\n",
            "Epoch 22/40\n",
            "329/329 [==============================] - 1s 3ms/step - loss: 1.1193 - accuracy: 0.4982\n",
            "Epoch 23/40\n",
            "329/329 [==============================] - 1s 3ms/step - loss: 1.1204 - accuracy: 0.4984\n",
            "Epoch 24/40\n",
            "329/329 [==============================] - 1s 3ms/step - loss: 1.1220 - accuracy: 0.4942\n",
            "Epoch 25/40\n",
            "329/329 [==============================] - 1s 3ms/step - loss: 1.1222 - accuracy: 0.4951\n",
            "Epoch 26/40\n",
            "329/329 [==============================] - 1s 3ms/step - loss: 1.1224 - accuracy: 0.4950\n",
            "Epoch 27/40\n",
            "329/329 [==============================] - 1s 3ms/step - loss: 1.1220 - accuracy: 0.4955\n",
            "Epoch 28/40\n",
            "329/329 [==============================] - 1s 3ms/step - loss: 1.1222 - accuracy: 0.4984\n",
            "Epoch 29/40\n",
            "329/329 [==============================] - 1s 3ms/step - loss: 1.1207 - accuracy: 0.4986\n",
            "Epoch 30/40\n",
            "329/329 [==============================] - 1s 3ms/step - loss: 1.1191 - accuracy: 0.4955\n",
            "Epoch 31/40\n",
            "329/329 [==============================] - 1s 3ms/step - loss: 1.1228 - accuracy: 0.4976\n",
            "Epoch 32/40\n",
            "329/329 [==============================] - 1s 3ms/step - loss: 1.1200 - accuracy: 0.4988\n",
            "Epoch 33/40\n",
            "329/329 [==============================] - 1s 3ms/step - loss: 1.1170 - accuracy: 0.4974\n",
            "Epoch 34/40\n",
            "329/329 [==============================] - 1s 3ms/step - loss: 1.1196 - accuracy: 0.5016\n",
            "Epoch 35/40\n",
            "329/329 [==============================] - 1s 3ms/step - loss: 1.1200 - accuracy: 0.4944\n",
            "Epoch 36/40\n",
            "329/329 [==============================] - 1s 3ms/step - loss: 1.1141 - accuracy: 0.5026\n",
            "Epoch 37/40\n",
            "329/329 [==============================] - 1s 3ms/step - loss: 1.1172 - accuracy: 0.4982\n",
            "Epoch 38/40\n",
            "329/329 [==============================] - 1s 3ms/step - loss: 1.1182 - accuracy: 0.5007\n",
            "Epoch 39/40\n",
            "329/329 [==============================] - 1s 3ms/step - loss: 1.1195 - accuracy: 0.4986\n",
            "Epoch 40/40\n",
            "329/329 [==============================] - 1s 3ms/step - loss: 1.1198 - accuracy: 0.4981\n"
          ]
        },
        {
          "output_type": "execute_result",
          "data": {
            "text/plain": [
              "<keras.callbacks.History at 0x7f784c715a10>"
            ]
          },
          "metadata": {},
          "execution_count": 33
        }
      ],
      "source": [
        "model = Sequential([\n",
        "    BatchNormalization(),\n",
        "    Dense(21, activation = 'relu', name = 'first_layer'),\n",
        "    Dense(10, activation = 'selu', name = 'second_layer'),\n",
        "    # Dense(7, activation = 'elu', name = 'third_layer'),\n",
        "    Dense(4, activation = 'softmax', name = 'last_layer')\n",
        "])\n",
        "\n",
        "model.compile(\n",
        "    loss=tf.keras.losses.SparseCategoricalCrossentropy(from_logits=True),  \n",
        "    optimizer=tf.keras.optimizers.Adam(0.008), #This is the more powerful optimizer than gradient descent. It can automatically adjust the learning rate alpha.\n",
        "    metrics = ['accuracy']\n",
        ")\n",
        "\n",
        "model.fit(\n",
        "    x_train, y_train,\n",
        "    epochs = 40\n",
        ")\n",
        "\n",
        "\n"
      ]
    },
    {
      "cell_type": "code",
      "execution_count": 34,
      "id": "95c8244f",
      "metadata": {
        "pycharm": {
          "name": "#%%\n"
        },
        "colab": {
          "base_uri": "https://localhost:8080/"
        },
        "id": "95c8244f",
        "outputId": "0715ea49-ebb6-4b87-9066-8fb52d68c8a1"
      },
      "outputs": [
        {
          "output_type": "stream",
          "name": "stdout",
          "text": [
            "110/110 [==============================] - 0s 2ms/step - loss: 1.1450 - accuracy: 0.4926\n",
            "Model: \"sequential_4\"\n",
            "_________________________________________________________________\n",
            " Layer (type)                Output Shape              Param #   \n",
            "=================================================================\n",
            " batch_normalization_4 (Batc  (None, 20)               80        \n",
            " hNormalization)                                                 \n",
            "                                                                 \n",
            " first_layer (Dense)         (None, 21)                441       \n",
            "                                                                 \n",
            " second_layer (Dense)        (None, 10)                220       \n",
            "                                                                 \n",
            " last_layer (Dense)          (None, 4)                 44        \n",
            "                                                                 \n",
            "=================================================================\n",
            "Total params: 785\n",
            "Trainable params: 745\n",
            "Non-trainable params: 40\n",
            "_________________________________________________________________\n"
          ]
        }
      ],
      "source": [
        "model.evaluate(x_test, y_test)\n",
        "model.summary()"
      ]
    },
    {
      "cell_type": "code",
      "execution_count": 35,
      "id": "fb054f36",
      "metadata": {
        "pycharm": {
          "name": "#%%\n"
        },
        "colab": {
          "base_uri": "https://localhost:8080/",
          "height": 313
        },
        "id": "fb054f36",
        "outputId": "11319bf1-a3da-4ca7-8962-6eece107035b"
      },
      "outputs": [
        {
          "output_type": "stream",
          "name": "stdout",
          "text": [
            "110/110 [==============================] - 0s 2ms/step\n"
          ]
        },
        {
          "output_type": "execute_result",
          "data": {
            "text/plain": [
              "Text(33.0, 0.5, 'Truth')"
            ]
          },
          "metadata": {},
          "execution_count": 35
        },
        {
          "output_type": "display_data",
          "data": {
            "text/plain": [
              "<Figure size 432x288 with 2 Axes>"
            ],
            "image/png": "[encoded data removed]"
          },
          "metadata": {
            "needs_background": "light"
          }
        }
      ],
      "source": [
        "y_prediction = model.predict(x_test)\n",
        "confuse = []\n",
        "for i in range (len(x_test)):\n",
        "    confuse.append(np.argmax(y_prediction[i]))\n",
        "conf_matrix = np.array(tf.math.confusion_matrix(labels=y_test, predictions=confuse))\n",
        "\n",
        "sb.heatmap(conf_matrix, annot=True, fmt='d')\n",
        "plt.xlabel('Predicted')\n",
        "plt.ylabel('Truth')"
      ]
    },
    {
      "cell_type": "code",
      "execution_count": 43,
      "id": "c4ae766d",
      "metadata": {
        "pycharm": {
          "name": "#%%\n"
        },
        "colab": {
          "base_uri": "https://localhost:8080/",
          "height": 313
        },
        "id": "c4ae766d",
        "outputId": "fa751029-c010-4d72-c952-9bb31443b252"
      },
      "outputs": [
        {
          "output_type": "stream",
          "name": "stdout",
          "text": [
            "0.48428571428571426\n"
          ]
        },
        {
          "output_type": "execute_result",
          "data": {
            "text/plain": [
              "Text(33.0, 0.5, 'Truth')"
            ]
          },
          "metadata": {},
          "execution_count": 43
        },
        {
          "output_type": "display_data",
          "data": {
            "text/plain": [
              "<Figure size 432x288 with 2 Axes>"
            ],
            "image/png": "[encoded data removed]"
          },
          "metadata": {
            "needs_background": "light"
          }
        }
      ],
      "source": [
        "from sklearn.ensemble import RandomForestClassifier\n",
        "from sklearn.metrics import confusion_matrix, classification_report\n",
        "\n",
        "rf = RandomForestClassifier(max_depth=14, random_state=10000)\n",
        "rf.fit(x_train, y_train)\n",
        "\n",
        "rfcm = confusion_matrix(y_test, rf.predict(x_test).flatten())\n",
        "print(rf.score(x_test, y_test))\n",
        "\n",
        "sb.heatmap(rfcm, annot=True, fmt='d')\n",
        "plt.xlabel('Predicted')\n",
        "plt.ylabel('Truth')"
      ]
    },
    {
      "cell_type": "code",
      "execution_count": 47,
      "id": "e07d2b35",
      "metadata": {
        "pycharm": {
          "name": "#%%\n"
        },
        "colab": {
          "base_uri": "https://localhost:8080/",
          "height": 313
        },
        "id": "e07d2b35",
        "outputId": "badb6799-037d-44d6-bfeb-5462c917e1a3"
      },
      "outputs": [
        {
          "output_type": "stream",
          "name": "stdout",
          "text": [
            "0.5031428571428571\n"
          ]
        },
        {
          "output_type": "execute_result",
          "data": {
            "text/plain": [
              "Text(33.0, 0.5, 'Truth')"
            ]
          },
          "metadata": {},
          "execution_count": 47
        },
        {
          "output_type": "display_data",
          "data": {
            "text/plain": [
              "<Figure size 432x288 with 2 Axes>"
            ],
            "image/png": "[encoded data removed]"
          },
          "metadata": {
            "needs_background": "light"
          }
        }
      ],
      "source": [
        "import xgboost as xgb\n",
        "\n",
        "xg = xgb.XGBClassifier(random_state=10000).fit(x_train, y_train)\n",
        "\n",
        "xgcm = confusion_matrix(y_test, xg.predict(x_test).flatten())\n",
        "print(xg.score(x_test, y_test))\n",
        "\n",
        "sb.heatmap(xgcm, annot=True, fmt='d')\n",
        "plt.xlabel('Predicted')\n",
        "plt.ylabel('Truth')\n"
      ]
    },
    {
      "cell_type": "markdown",
      "source": [
        "We combine 2 features (HeartDiseaseorAttack and Diabetes_011) together into a single feature (HEART/DIA). There are 4 categories in this feature (0, 1, 2, 3). \n",
        "- '0': Doesn't have heart disease or diabetes\n",
        "- '1': Only have diabetes\n",
        "- '2': Only have heart disease\n",
        "- '3': Have both heart disease and diabetes\n",
        "\n",
        "For '0' and '2' XGBoost model provided the best predictions. For '1' and '3', neutral network provided the best predictions. But overall, if one 1 model was chosen for predicting, Random Forest will be the best."
      ],
      "metadata": {
        "id": "3GwW4uhmDArJ"
      },
      "id": "3GwW4uhmDArJ"
    }
  ],
  "metadata": {
    "kernelspec": {
      "display_name": "Python 3 (ipykernel)",
      "language": "python",
      "name": "python3"
    },
    "language_info": {
      "codemirror_mode": {
        "name": "ipython",
        "version": 3
      },
      "file_extension": ".py",
      "mimetype": "text/x-python",
      "name": "python",
      "nbconvert_exporter": "python",
      "pygments_lexer": "ipython3",
      "version": "3.9.12"
    },
    "colab": {
      "provenance": [],
      "collapsed_sections": []
    }
  },
  "nbformat": 4,
  "nbformat_minor": 5
}