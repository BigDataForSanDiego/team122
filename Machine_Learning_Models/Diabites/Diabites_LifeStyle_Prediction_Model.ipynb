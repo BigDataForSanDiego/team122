{
 "cells": [
  {
   "cell_type": "code",
   "execution_count": 217,
   "id": "b6f853a4",
   "metadata": {},
   "outputs": [
    {
     "name": "stdout",
     "output_type": "stream",
     "text": [
      "Requirement already satisfied: xgboost in /Users/huynhnhat/opt/anaconda3/envs/tensorflow/lib/python3.8/site-packages (1.6.2)\n",
      "Requirement already satisfied: numpy in /Users/huynhnhat/opt/anaconda3/envs/tensorflow/lib/python3.8/site-packages (from xgboost) (1.22.3)\n",
      "Requirement already satisfied: scipy in /Users/huynhnhat/opt/anaconda3/envs/tensorflow/lib/python3.8/site-packages (from xgboost) (1.7.3)\n",
      "Collecting seaborn\n",
      "  Downloading seaborn-0.12.0-py3-none-any.whl (285 kB)\n",
      "\u001b[K     |████████████████████████████████| 285 kB 1.6 MB/s eta 0:00:01\n",
      "\u001b[?25hRequirement already satisfied: pandas>=0.25 in /Users/huynhnhat/opt/anaconda3/envs/tensorflow/lib/python3.8/site-packages (from seaborn) (1.4.2)\n",
      "Requirement already satisfied: numpy>=1.17 in /Users/huynhnhat/opt/anaconda3/envs/tensorflow/lib/python3.8/site-packages (from seaborn) (1.22.3)\n",
      "Requirement already satisfied: matplotlib>=3.1 in /Users/huynhnhat/opt/anaconda3/envs/tensorflow/lib/python3.8/site-packages (from seaborn) (3.5.1)\n",
      "Requirement already satisfied: fonttools>=4.22.0 in /Users/huynhnhat/opt/anaconda3/envs/tensorflow/lib/python3.8/site-packages (from matplotlib>=3.1->seaborn) (4.25.0)\n",
      "Requirement already satisfied: pillow>=6.2.0 in /Users/huynhnhat/opt/anaconda3/envs/tensorflow/lib/python3.8/site-packages (from matplotlib>=3.1->seaborn) (9.0.1)\n",
      "Requirement already satisfied: pyparsing>=2.2.1 in /Users/huynhnhat/opt/anaconda3/envs/tensorflow/lib/python3.8/site-packages (from matplotlib>=3.1->seaborn) (3.0.4)\n",
      "Requirement already satisfied: kiwisolver>=1.0.1 in /Users/huynhnhat/opt/anaconda3/envs/tensorflow/lib/python3.8/site-packages (from matplotlib>=3.1->seaborn) (1.4.2)\n",
      "Requirement already satisfied: cycler>=0.10 in /Users/huynhnhat/opt/anaconda3/envs/tensorflow/lib/python3.8/site-packages (from matplotlib>=3.1->seaborn) (0.11.0)\n",
      "Requirement already satisfied: python-dateutil>=2.7 in /Users/huynhnhat/opt/anaconda3/envs/tensorflow/lib/python3.8/site-packages (from matplotlib>=3.1->seaborn) (2.8.2)\n",
      "Requirement already satisfied: packaging>=20.0 in /Users/huynhnhat/opt/anaconda3/envs/tensorflow/lib/python3.8/site-packages (from matplotlib>=3.1->seaborn) (21.3)\n",
      "Requirement already satisfied: pytz>=2020.1 in /Users/huynhnhat/opt/anaconda3/envs/tensorflow/lib/python3.8/site-packages (from pandas>=0.25->seaborn) (2022.1)\n",
      "Requirement already satisfied: six>=1.5 in /Users/huynhnhat/opt/anaconda3/envs/tensorflow/lib/python3.8/site-packages (from python-dateutil>=2.7->matplotlib>=3.1->seaborn) (1.16.0)\n",
      "Installing collected packages: seaborn\n",
      "Successfully installed seaborn-0.12.0\n"
     ]
    }
   ],
   "source": [
    "import sys\n",
    "!{sys.executable} -m pip install xgboost\n",
    "!{sys.executable} -m pip install seaborn"
   ]
  },
  {
   "cell_type": "code",
   "execution_count": 2,
   "id": "68a201d4",
   "metadata": {},
   "outputs": [],
   "source": [
    "import pandas as pd\n",
    "import numpy as np\n",
    "from sklearn.model_selection import train_test_split\n",
    "from sklearn import preprocessing\n",
    "import tensorflow as tf\n",
    "from tensorflow.keras.models import Sequential \n",
    "from tensorflow.keras.layers import Dense, Dropout\n",
    "from tensorflow.keras.layers import BatchNormalization\n",
    "from tensorflow.keras import optimizers\n",
    "from sklearn.metrics import confusion_matrix, classification_report\n",
    "from matplotlib import pyplot as plt\n",
    "import seaborn as sb"
   ]
  },
  {
   "cell_type": "code",
   "execution_count": 3,
   "id": "10eefea5",
   "metadata": {},
   "outputs": [],
   "source": [
    "load = pd.read_csv(\"CDC_2021.csv\", low_memory = False)\n",
    "df_fill_na = load.replace(r'^\\s*$', np.nan, regex=True)\n",
    "df = df_fill_na.dropna()\n",
    "df = df.applymap(str)\n",
    "names = ['SEXVAR', 'CHECKUP1', 'EXERANY2', 'TOLDHI3', 'CVDINFR4', 'CVDSTRK3', 'ASTHMA3', 'CHCOCNCR', 'CHCKDNY2', 'DIABETE4', 'DECIDE', 'DIFFWALK', 'SMOKE100', 'ECIGNOW1', 'ALCDAY5', '@_PHYS14D', '@_MENT14D', '@_AGEG5YR', 'HTM4', 'WTKG3', '@_FRTLT1A', '@_VEGLT1A']\n",
    "for name in names:\n",
    "    df = df.drop(df[df[name] == '7'].index)\n",
    "    df = df.drop(df[df[name] == '9'].index)\n",
    "    if name == 'CHECKUP1':\n",
    "        df = df.drop(df[df[name] == '8'].index)\n",
    "    elif name == 'ALCDAY5':\n",
    "        df = df.drop(df[df[name] == '777'].index)\n",
    "        df = df.drop(df[df[name] == '999'].index)\n",
    "        \n",
    "        df[name] = df[name].replace(['%s' % i for i in range(100, 108)],'1')\n",
    "        df[name] = df[name].replace(['%s' % i for i in range(200, 231)],'1')\n",
    "        df[name] = df[name].replace('888','0')\n",
    "    elif name == 'DIABETE4':\n",
    "        df = df.drop(df[df[name] == '2'].index)\n",
    "        df = df.drop(df[df[name] == '4'].index)\n",
    "        df[name] = df[name].replace('3','0')\n",
    "\n",
    "df = df.drop([ 'PRIMINSR'], axis=1)\n",
    "new_df = df.groupby('DIABETE4').sample(n=10000)"
   ]
  },
  {
   "cell_type": "code",
   "execution_count": 4,
   "id": "95c6cb1a",
   "metadata": {},
   "outputs": [
    {
     "name": "stdout",
     "output_type": "stream",
     "text": [
      "(15000, 21)\n"
     ]
    }
   ],
   "source": [
    "label_encoder = preprocessing.LabelEncoder()\n",
    "df[\"DIABETE4\"]= label_encoder.fit_transform(df[\"DIABETE4\"])\n",
    "\n",
    "X = np.array(new_df.drop(\"DIABETE4\", axis=1)).astype(np.float32)\n",
    "y = np.array(new_df[\"DIABETE4\"]).astype(np.float32).flatten()\n",
    "\n",
    "X_train, X_test, y_train, y_test = train_test_split(X,y ,\n",
    "                                   random_state=104, \n",
    "                                   test_size=0.25, \n",
    "                                   shuffle=True)\n",
    "\n",
    "print(X_train.shape)"
   ]
  },
  {
   "cell_type": "code",
   "execution_count": 5,
   "id": "99ac08ce",
   "metadata": {},
   "outputs": [
    {
     "name": "stderr",
     "output_type": "stream",
     "text": [
      "2022-10-15 02:26:14.809193: I tensorflow/compiler/jit/xla_cpu_device.cc:41] Not creating XLA devices, tf_xla_enable_xla_devices not set\n",
      "2022-10-15 02:26:14.809412: I tensorflow/core/platform/cpu_feature_guard.cc:142] This TensorFlow binary is optimized with oneAPI Deep Neural Network Library (oneDNN) to use the following CPU instructions in performance-critical operations:  AVX2 FMA\n",
      "To enable them in other operations, rebuild TensorFlow with the appropriate compiler flags.\n",
      "2022-10-15 02:26:14.904356: I tensorflow/compiler/mlir/mlir_graph_optimization_pass.cc:116] None of the MLIR optimization passes are enabled (registered 2)\n"
     ]
    },
    {
     "name": "stdout",
     "output_type": "stream",
     "text": [
      "Epoch 1/50\n",
      "469/469 [==============================] - 1s 749us/step - loss: 0.5798 - accuracy: 0.7069\n",
      "Epoch 2/50\n",
      "469/469 [==============================] - 0s 1ms/step - loss: 0.5387 - accuracy: 0.7348\n",
      "Epoch 3/50\n",
      "469/469 [==============================] - 0s 835us/step - loss: 0.5309 - accuracy: 0.7320\n",
      "Epoch 4/50\n",
      "469/469 [==============================] - 0s 777us/step - loss: 0.5350 - accuracy: 0.7289\n",
      "Epoch 5/50\n",
      "469/469 [==============================] - 0s 769us/step - loss: 0.5390 - accuracy: 0.7300\n",
      "Epoch 6/50\n",
      "469/469 [==============================] - 0s 844us/step - loss: 0.5380 - accuracy: 0.7272\n",
      "Epoch 7/50\n",
      "469/469 [==============================] - 0s 782us/step - loss: 0.5398 - accuracy: 0.7231\n",
      "Epoch 8/50\n",
      "469/469 [==============================] - 1s 1ms/step - loss: 0.5338 - accuracy: 0.7352\n",
      "Epoch 9/50\n",
      "469/469 [==============================] - 0s 945us/step - loss: 0.5356 - accuracy: 0.7347\n",
      "Epoch 10/50\n",
      "469/469 [==============================] - 0s 770us/step - loss: 0.5282 - accuracy: 0.7353\n",
      "Epoch 11/50\n",
      "469/469 [==============================] - 0s 804us/step - loss: 0.5324 - accuracy: 0.7299\n",
      "Epoch 12/50\n",
      "469/469 [==============================] - 0s 788us/step - loss: 0.5325 - accuracy: 0.7343\n",
      "Epoch 13/50\n",
      "469/469 [==============================] - 0s 781us/step - loss: 0.5406 - accuracy: 0.7299\n",
      "Epoch 14/50\n",
      "469/469 [==============================] - 0s 775us/step - loss: 0.5349 - accuracy: 0.7298\n",
      "Epoch 15/50\n",
      "469/469 [==============================] - 0s 783us/step - loss: 0.5350 - accuracy: 0.7288\n",
      "Epoch 16/50\n",
      "469/469 [==============================] - 0s 786us/step - loss: 0.5361 - accuracy: 0.7311\n",
      "Epoch 17/50\n",
      "469/469 [==============================] - 0s 775us/step - loss: 0.5371 - accuracy: 0.7330\n",
      "Epoch 18/50\n",
      "469/469 [==============================] - 0s 786us/step - loss: 0.5376 - accuracy: 0.7309\n",
      "Epoch 19/50\n",
      "469/469 [==============================] - 0s 802us/step - loss: 0.5356 - accuracy: 0.7321\n",
      "Epoch 20/50\n",
      "469/469 [==============================] - 0s 797us/step - loss: 0.5271 - accuracy: 0.7327\n",
      "Epoch 21/50\n",
      "469/469 [==============================] - 0s 798us/step - loss: 0.5408 - accuracy: 0.7282\n",
      "Epoch 22/50\n",
      "469/469 [==============================] - 0s 796us/step - loss: 0.5304 - accuracy: 0.7321\n",
      "Epoch 23/50\n",
      "469/469 [==============================] - 0s 799us/step - loss: 0.5282 - accuracy: 0.7324\n",
      "Epoch 24/50\n",
      "469/469 [==============================] - 0s 803us/step - loss: 0.5297 - accuracy: 0.7300\n",
      "Epoch 25/50\n",
      "469/469 [==============================] - 0s 804us/step - loss: 0.5341 - accuracy: 0.7301\n",
      "Epoch 26/50\n",
      "469/469 [==============================] - 0s 817us/step - loss: 0.5339 - accuracy: 0.7307\n",
      "Epoch 27/50\n",
      "469/469 [==============================] - 0s 810us/step - loss: 0.5226 - accuracy: 0.7396\n",
      "Epoch 28/50\n",
      "469/469 [==============================] - 0s 799us/step - loss: 0.5328 - accuracy: 0.7375\n",
      "Epoch 29/50\n",
      "469/469 [==============================] - 0s 824us/step - loss: 0.5289 - accuracy: 0.7352\n",
      "Epoch 30/50\n",
      "469/469 [==============================] - 0s 821us/step - loss: 0.5318 - accuracy: 0.7334\n",
      "Epoch 31/50\n",
      "469/469 [==============================] - 0s 818us/step - loss: 0.5304 - accuracy: 0.7350\n",
      "Epoch 32/50\n",
      "469/469 [==============================] - 0s 802us/step - loss: 0.5179 - accuracy: 0.7381\n",
      "Epoch 33/50\n",
      "469/469 [==============================] - 0s 832us/step - loss: 0.5363 - accuracy: 0.7267\n",
      "Epoch 34/50\n",
      "469/469 [==============================] - 0s 833us/step - loss: 0.5399 - accuracy: 0.7269\n",
      "Epoch 35/50\n",
      "469/469 [==============================] - 0s 817us/step - loss: 0.5261 - accuracy: 0.7293\n",
      "Epoch 36/50\n",
      "469/469 [==============================] - 0s 856us/step - loss: 0.5332 - accuracy: 0.7383\n",
      "Epoch 37/50\n",
      "469/469 [==============================] - 0s 811us/step - loss: 0.5307 - accuracy: 0.7341\n",
      "Epoch 38/50\n",
      "469/469 [==============================] - 0s 816us/step - loss: 0.5281 - accuracy: 0.7378\n",
      "Epoch 39/50\n",
      "469/469 [==============================] - 0s 824us/step - loss: 0.5327 - accuracy: 0.7296\n",
      "Epoch 40/50\n",
      "469/469 [==============================] - 0s 827us/step - loss: 0.5325 - accuracy: 0.7324\n",
      "Epoch 41/50\n",
      "469/469 [==============================] - 0s 847us/step - loss: 0.5283 - accuracy: 0.7324\n",
      "Epoch 42/50\n",
      "469/469 [==============================] - 0s 828us/step - loss: 0.5267 - accuracy: 0.7359\n",
      "Epoch 43/50\n",
      "469/469 [==============================] - 0s 816us/step - loss: 0.5395 - accuracy: 0.7255\n",
      "Epoch 44/50\n",
      "469/469 [==============================] - 0s 823us/step - loss: 0.5375 - accuracy: 0.7272\n",
      "Epoch 45/50\n",
      "469/469 [==============================] - 0s 877us/step - loss: 0.5242 - accuracy: 0.7396\n",
      "Epoch 46/50\n",
      "469/469 [==============================] - 0s 823us/step - loss: 0.5333 - accuracy: 0.7321\n",
      "Epoch 47/50\n",
      "469/469 [==============================] - 0s 836us/step - loss: 0.5265 - accuracy: 0.7333\n",
      "Epoch 48/50\n",
      "469/469 [==============================] - 0s 827us/step - loss: 0.5223 - accuracy: 0.7415\n",
      "Epoch 49/50\n",
      "469/469 [==============================] - 0s 852us/step - loss: 0.5294 - accuracy: 0.7377\n",
      "Epoch 50/50\n",
      "469/469 [==============================] - 0s 805us/step - loss: 0.5213 - accuracy: 0.7409\n"
     ]
    },
    {
     "data": {
      "text/plain": [
       "<tensorflow.python.keras.callbacks.History at 0x7ff77a549070>"
      ]
     },
     "execution_count": 5,
     "metadata": {},
     "output_type": "execute_result"
    }
   ],
   "source": [
    "model = Sequential([\n",
    "    BatchNormalization(),\n",
    "    Dense(21, activation = 'elu', name = 'first_layer'),\n",
    "    Dense(7, activation = 'selu', name = 'second_layer'),\n",
    "    Dense(2, activation = 'softmax', name = 'last_layer')\n",
    "])\n",
    "\n",
    "model.compile(\n",
    "    loss=tf.keras.losses.SparseCategoricalCrossentropy(from_logits=True),  \n",
    "    optimizer=tf.keras.optimizers.Adam(0.01), \n",
    "    metrics = ['accuracy']\n",
    ")\n",
    "\n",
    "model.fit(\n",
    "\n",
    "    X_train,y_train,\n",
    "    epochs= 50\n",
    ")"
   ]
  },
  {
   "cell_type": "code",
   "execution_count": 6,
   "id": "95c8244f",
   "metadata": {},
   "outputs": [
    {
     "name": "stdout",
     "output_type": "stream",
     "text": [
      "157/157 [==============================] - 0s 641us/step - loss: 0.5420 - accuracy: 0.7270\n",
      "Model: \"sequential\"\n",
      "_________________________________________________________________\n",
      "Layer (type)                 Output Shape              Param #   \n",
      "=================================================================\n",
      "batch_normalization (BatchNo (None, 21)                84        \n",
      "_________________________________________________________________\n",
      "first_layer (Dense)          (None, 21)                462       \n",
      "_________________________________________________________________\n",
      "second_layer (Dense)         (None, 7)                 154       \n",
      "_________________________________________________________________\n",
      "last_layer (Dense)           (None, 2)                 16        \n",
      "=================================================================\n",
      "Total params: 716\n",
      "Trainable params: 674\n",
      "Non-trainable params: 42\n",
      "_________________________________________________________________\n"
     ]
    }
   ],
   "source": [
    "model.evaluate(X_test, y_test)\n",
    "model.summary()"
   ]
  },
  {
   "cell_type": "code",
   "execution_count": 7,
   "id": "fb054f36",
   "metadata": {},
   "outputs": [],
   "source": [
    "y_prediction = model.predict(X_test)\n",
    "confuse = []\n",
    "for i in range (len(X_test)):\n",
    "    confuse.append(np.argmax(y_prediction[i]))"
   ]
  },
  {
   "cell_type": "code",
   "execution_count": 8,
   "id": "c4ae766d",
   "metadata": {},
   "outputs": [],
   "source": [
    "conf_matrix = np.array(tf.math.confusion_matrix(labels=y_test, predictions=confuse))"
   ]
  },
  {
   "cell_type": "code",
   "execution_count": 9,
   "id": "e07d2b35",
   "metadata": {},
   "outputs": [
    {
     "name": "stdout",
     "output_type": "stream",
     "text": [
      "[[1575  904]\n",
      " [ 461 2060]]\n"
     ]
    },
    {
     "data": {
      "text/plain": [
       "Text(33.0, 0.5, 'Truth')"
      ]
     },
     "execution_count": 9,
     "metadata": {},
     "output_type": "execute_result"
    },
    {
     "data": {
      "image/png": "[encoded data removed]",
      "text/plain": [
       "<Figure size 432x288 with 2 Axes>"
      ]
     },
     "metadata": {
      "needs_background": "light"
     },
     "output_type": "display_data"
    }
   ],
   "source": [
    "print(conf_matrix)\n",
    "sb.heatmap(conf_matrix, annot=True, fmt='d')\n",
    "plt.xlabel('Predicted')\n",
    "plt.ylabel('Truth')"
   ]
  },
  {
   "cell_type": "code",
   "execution_count": 10,
   "id": "76b8b9aa",
   "metadata": {},
   "outputs": [
    {
     "data": {
      "text/plain": [
       "RandomForestClassifier(max_depth=12, random_state=150)"
      ]
     },
     "execution_count": 10,
     "metadata": {},
     "output_type": "execute_result"
    }
   ],
   "source": [
    "# Random forest\n",
    "from sklearn.ensemble import RandomForestClassifier\n",
    "from sklearn.metrics import confusion_matrix, classification_report\n",
    "\n",
    "rf = RandomForestClassifier(max_depth=12, random_state=150)\n",
    "rf.fit(X_train, y_train)"
   ]
  },
  {
   "cell_type": "code",
   "execution_count": 11,
   "id": "cb5e891d",
   "metadata": {},
   "outputs": [
    {
     "name": "stdout",
     "output_type": "stream",
     "text": [
      "0.7326\n"
     ]
    }
   ],
   "source": [
    "rfcm = confusion_matrix(y_test, rf.predict(X_test).flatten())\n",
    "print(rf.score(X_test, y_test))"
   ]
  },
  {
   "cell_type": "code",
   "execution_count": 12,
   "id": "e5ebae9f",
   "metadata": {},
   "outputs": [
    {
     "data": {
      "text/plain": [
       "Text(33.0, 0.5, 'Truth')"
      ]
     },
     "execution_count": 12,
     "metadata": {},
     "output_type": "execute_result"
    },
    {
     "data": {
      "image/png": "[encoded data removed]",
      "text/plain": [
       "<Figure size 432x288 with 2 Axes>"
      ]
     },
     "metadata": {
      "needs_background": "light"
     },
     "output_type": "display_data"
    }
   ],
   "source": [
    "sb.heatmap(rfcm, annot=True, fmt='d')\n",
    "plt.xlabel('Predicted')\n",
    "plt.ylabel('Truth')"
   ]
  },
  {
   "cell_type": "code",
   "execution_count": 13,
   "id": "cb4131cd",
   "metadata": {},
   "outputs": [],
   "source": [
    "import xgboost as xgb\n",
    "\n",
    "xg = xgb.XGBClassifier(random_state=1000).fit(X_train, y_train)"
   ]
  },
  {
   "cell_type": "code",
   "execution_count": 14,
   "id": "59c43d7b",
   "metadata": {},
   "outputs": [
    {
     "name": "stdout",
     "output_type": "stream",
     "text": [
      "0.7212\n"
     ]
    }
   ],
   "source": [
    "xgcm = confusion_matrix(y_test, xg.predict(X_test).flatten())\n",
    "print(xg.score(X_test, y_test))"
   ]
  },
  {
   "cell_type": "code",
   "execution_count": 15,
   "id": "1471975d",
   "metadata": {},
   "outputs": [
    {
     "data": {
      "text/plain": [
       "Text(33.0, 0.5, 'Truth')"
      ]
     },
     "execution_count": 15,
     "metadata": {},
     "output_type": "execute_result"
    },
    {
     "data": {
      "image/png": "[encoded data removed]",
      "text/plain": [
       "<Figure size 432x288 with 2 Axes>"
      ]
     },
     "metadata": {
      "needs_background": "light"
     },
     "output_type": "display_data"
    }
   ],
   "source": [
    "sb.heatmap(xgcm, annot=True, fmt='d')\n",
    "plt.xlabel('Predicted')\n",
    "plt.ylabel('Truth')"
   ]
  },
  {
   "cell_type": "code",
   "execution_count": null,
   "id": "65a451b6",
   "metadata": {},
   "outputs": [],
   "source": []
  }
 ],
 "metadata": {
  "kernelspec": {
   "display_name": "Python 3.7 (tensorflow)",
   "language": "python",
   "name": "tensorflow"
  },
  "language_info": {
   "codemirror_mode": {
    "name": "ipython",
    "version": 3
   },
   "file_extension": ".py",
   "mimetype": "text/x-python",
   "name": "python",
   "nbconvert_exporter": "python",
   "pygments_lexer": "ipython3",
   "version": "3.8.13"
  }
 },
 "nbformat": 4,
 "nbformat_minor": 5
}
