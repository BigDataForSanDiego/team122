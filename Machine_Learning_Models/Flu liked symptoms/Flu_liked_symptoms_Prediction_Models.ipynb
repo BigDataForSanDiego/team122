{
 "cells": [
  {
   "cell_type": "code",
   "source": [
    "import sys\n",
    "!{sys.executable} -m pip install xgboost\n",
    "!{sys.executable} -m pip install seaborn"
   ],
   "metadata": {
    "colab": {
     "base_uri": "https://localhost:8080/"
    },
    "id": "PhPmn-w9NkVM",
    "outputId": "540f7f57-4d21-407d-bd9c-6f480bd887b9",
    "pycharm": {
     "name": "#%%\n"
    }
   },
   "id": "PhPmn-w9NkVM",
   "execution_count": 9,
   "outputs": [
    {
     "output_type": "stream",
     "name": "stdout",
     "text": [
      "Looking in indexes: https://pypi.org/simple, https://us-python.pkg.dev/colab-wheels/public/simple/\n",
      "Requirement already satisfied: xgboost in /usr/local/lib/python3.7/dist-packages (0.90)\n",
      "Requirement already satisfied: numpy in /usr/local/lib/python3.7/dist-packages (from xgboost) (1.21.6)\n",
      "Requirement already satisfied: scipy in /usr/local/lib/python3.7/dist-packages (from xgboost) (1.7.3)\n",
      "Looking in indexes: https://pypi.org/simple, https://us-python.pkg.dev/colab-wheels/public/simple/\n",
      "Requirement already satisfied: seaborn in /usr/local/lib/python3.7/dist-packages (0.11.2)\n",
      "Requirement already satisfied: pandas>=0.23 in /usr/local/lib/python3.7/dist-packages (from seaborn) (1.3.5)\n",
      "Requirement already satisfied: scipy>=1.0 in /usr/local/lib/python3.7/dist-packages (from seaborn) (1.7.3)\n",
      "Requirement already satisfied: numpy>=1.15 in /usr/local/lib/python3.7/dist-packages (from seaborn) (1.21.6)\n",
      "Requirement already satisfied: matplotlib>=2.2 in /usr/local/lib/python3.7/dist-packages (from seaborn) (3.2.2)\n",
      "Requirement already satisfied: python-dateutil>=2.1 in /usr/local/lib/python3.7/dist-packages (from matplotlib>=2.2->seaborn) (2.8.2)\n",
      "Requirement already satisfied: pyparsing!=2.0.4,!=2.1.2,!=2.1.6,>=2.0.1 in /usr/local/lib/python3.7/dist-packages (from matplotlib>=2.2->seaborn) (3.0.9)\n",
      "Requirement already satisfied: cycler>=0.10 in /usr/local/lib/python3.7/dist-packages (from matplotlib>=2.2->seaborn) (0.11.0)\n",
      "Requirement already satisfied: kiwisolver>=1.0.1 in /usr/local/lib/python3.7/dist-packages (from matplotlib>=2.2->seaborn) (1.4.4)\n",
      "Requirement already satisfied: typing-extensions in /usr/local/lib/python3.7/dist-packages (from kiwisolver>=1.0.1->matplotlib>=2.2->seaborn) (4.1.1)\n",
      "Requirement already satisfied: pytz>=2017.3 in /usr/local/lib/python3.7/dist-packages (from pandas>=0.23->seaborn) (2022.4)\n",
      "Requirement already satisfied: six>=1.5 in /usr/local/lib/python3.7/dist-packages (from python-dateutil>=2.1->matplotlib>=2.2->seaborn) (1.15.0)\n"
     ]
    }
   ]
  },
  {
   "cell_type": "code",
   "source": [
    "import numpy as np \n",
    "from numpy import *\n",
    "from pandas.api.types import is_string_dtype\n",
    "from pandas.api.types import is_numeric_dtype\n",
    "import pandas as pd\n",
    "import tensorflow as tf \n",
    "from tensorflow.keras.models import Sequential \n",
    "from tensorflow.keras.layers import Dense, Dropout\n",
    "from tensorflow.keras.layers import BatchNormalization\n",
    "from tensorflow.keras import optimizers\n",
    "from sklearn.preprocessing import LabelEncoder \n",
    "from sklearn.model_selection import train_test_split\n",
    "from matplotlib import pyplot as plt\n",
    "import seaborn as sb"
   ],
   "metadata": {
    "id": "vRQ3bErbNmNi",
    "pycharm": {
     "name": "#%%\n"
    }
   },
   "id": "vRQ3bErbNmNi",
   "execution_count": 18,
   "outputs": []
  },
  {
   "cell_type": "code",
   "execution_count": 19,
   "id": "77f54626",
   "metadata": {
    "colab": {
     "base_uri": "https://localhost:8080/"
    },
    "id": "77f54626",
    "outputId": "382cadcc-d299-4693-9f7c-32683466b1ea",
    "pycharm": {
     "name": "#%%\n"
    }
   },
   "outputs": [
    {
     "output_type": "execute_result",
     "data": {
      "text/plain": [
       "COUGH                   0\n",
       "MUSCLE_ACHES            0\n",
       "TIREDNESS               0\n",
       "SORE_THROAT             0\n",
       "RUNNY_NOSE              0\n",
       "STUFFY_NOSE             0\n",
       "FEVER                   0\n",
       "NAUSEA                  0\n",
       "VOMITING                0\n",
       "DIARRHEA                0\n",
       "SHORTNESS_OF_BREATH     0\n",
       "DIFFICULTY_BREATHING    0\n",
       "LOSS_OF_TASTE           0\n",
       "LOSS_OF_SMELL           0\n",
       "ITCHY_NOSE              0\n",
       "ITCHY_EYES              0\n",
       "ITCHY_MOUTH             0\n",
       "ITCHY_INNER_EAR         0\n",
       "SNEEZING                0\n",
       "PINK_EYE                0\n",
       "TYPE                    0\n",
       "dtype: int64"
      ]
     },
     "metadata": {},
     "execution_count": 19
    }
   ],
   "source": [
    "df = pd.read_csv(\"train.csv\")\n",
    "df.isnull().sum()"
   ]
  },
  {
   "cell_type": "code",
   "execution_count": 20,
   "id": "f8e082e7",
   "metadata": {
    "id": "f8e082e7",
    "pycharm": {
     "name": "#%%\n"
    }
   },
   "outputs": [],
   "source": [
    "coded_df = df.apply(LabelEncoder().fit_transform)\n"
   ]
  },
  {
   "cell_type": "code",
   "execution_count": 21,
   "id": "196b9188",
   "metadata": {
    "colab": {
     "base_uri": "https://localhost:8080/"
    },
    "id": "196b9188",
    "outputId": "6e608ef1-6c56-4605-b960-3260f440808e",
    "pycharm": {
     "name": "#%%\n"
    }
   },
   "outputs": [
    {
     "output_type": "stream",
     "name": "stdout",
     "text": [
      "(5284, 20)\n",
      "(5284,)\n"
     ]
    }
   ],
   "source": [
    "X = np.array(coded_df.iloc[:,0:20]).astype(np.float32)\n",
    "y = np.array(coded_df.iloc[:,20:21]).astype(np.float32).flatten()\n",
    "\n",
    "X_train, X_test, y_train, y_test = train_test_split(X, y, test_size=0.33, random_state=42)\n",
    "print(X_train.shape)\n",
    "print(y_train.shape)"
   ]
  },
  {
   "cell_type": "code",
   "execution_count": 22,
   "id": "37974e19",
   "metadata": {
    "colab": {
     "base_uri": "https://localhost:8080/"
    },
    "id": "37974e19",
    "outputId": "ce8da483-c698-47b6-9815-0b90bd6ea379",
    "pycharm": {
     "name": "#%%\n"
    }
   },
   "outputs": [
    {
     "output_type": "stream",
     "name": "stdout",
     "text": [
      "Epoch 1/10\n"
     ]
    },
    {
     "output_type": "stream",
     "name": "stderr",
     "text": [
      "/usr/local/lib/python3.7/dist-packages/tensorflow/python/util/dispatch.py:1082: UserWarning: \"`sparse_categorical_crossentropy` received `from_logits=True`, but the `output` argument was produced by a sigmoid or softmax activation and thus does not represent logits. Was this intended?\"\n",
      "  return dispatch_target(*args, **kwargs)\n"
     ]
    },
    {
     "output_type": "stream",
     "name": "stdout",
     "text": [
      "166/166 [==============================] - 1s 2ms/step - loss: 0.2883 - accuracy: 0.9080\n",
      "Epoch 2/10\n",
      "166/166 [==============================] - 0s 2ms/step - loss: 0.1896 - accuracy: 0.9455\n",
      "Epoch 3/10\n",
      "166/166 [==============================] - 0s 2ms/step - loss: 0.1936 - accuracy: 0.9428\n",
      "Epoch 4/10\n",
      "166/166 [==============================] - 0s 2ms/step - loss: 0.1745 - accuracy: 0.9455\n",
      "Epoch 5/10\n",
      "166/166 [==============================] - 0s 2ms/step - loss: 0.1745 - accuracy: 0.9449\n",
      "Epoch 6/10\n",
      "166/166 [==============================] - 0s 2ms/step - loss: 0.1708 - accuracy: 0.9464\n",
      "Epoch 7/10\n",
      "166/166 [==============================] - 0s 2ms/step - loss: 0.1681 - accuracy: 0.9461\n",
      "Epoch 8/10\n",
      "166/166 [==============================] - 0s 2ms/step - loss: 0.1773 - accuracy: 0.9457\n",
      "Epoch 9/10\n",
      "166/166 [==============================] - 0s 2ms/step - loss: 0.1689 - accuracy: 0.9459\n",
      "Epoch 10/10\n",
      "166/166 [==============================] - 0s 2ms/step - loss: 0.1720 - accuracy: 0.9457\n"
     ]
    },
    {
     "output_type": "execute_result",
     "data": {
      "text/plain": [
       "<keras.callbacks.History at 0x7f1f4fd5f4d0>"
      ]
     },
     "metadata": {},
     "execution_count": 22
    }
   ],
   "source": [
    "model = Sequential([\n",
    "    Dense(20, activation = 'relu', name = 'first_layer'),\n",
    "    Dense(10, activation = 'selu', name = 'second_layer'),\n",
    "    Dense(4, activation = 'softmax', name = 'last_layer')\n",
    "])\n",
    "\n",
    "model.compile(\n",
    "    loss=tf.keras.losses.SparseCategoricalCrossentropy(from_logits=True),  \n",
    "    optimizer=tf.keras.optimizers.Adam(0.04), #This is the more powerful optimizer than gradient descent. It can automatically adjust the learning rate alpha.\n",
    "    metrics = ['accuracy']\n",
    ")\n",
    "\n",
    "model.fit(\n",
    "    \n",
    "    X_train,y_train,\n",
    "    epochs= 10\n",
    ")\n",
    "\n"
   ]
  },
  {
   "cell_type": "code",
   "execution_count": 23,
   "id": "e145b098",
   "metadata": {
    "colab": {
     "base_uri": "https://localhost:8080/"
    },
    "id": "e145b098",
    "outputId": "17dcaf0c-13cd-4c84-9bc1-637bb69628c8",
    "pycharm": {
     "name": "#%%\n"
    }
   },
   "outputs": [
    {
     "output_type": "stream",
     "name": "stdout",
     "text": [
      "82/82 [==============================] - 0s 2ms/step - loss: 0.1693 - accuracy: 0.9493\n",
      "Model: \"sequential_4\"\n",
      "_________________________________________________________________\n",
      " Layer (type)                Output Shape              Param #   \n",
      "=================================================================\n",
      " first_layer (Dense)         (None, 20)                420       \n",
      "                                                                 \n",
      " second_layer (Dense)        (None, 10)                210       \n",
      "                                                                 \n",
      " last_layer (Dense)          (None, 4)                 44        \n",
      "                                                                 \n",
      "=================================================================\n",
      "Total params: 674\n",
      "Trainable params: 674\n",
      "Non-trainable params: 0\n",
      "_________________________________________________________________\n"
     ]
    }
   ],
   "source": [
    "model.evaluate(X_test, y_test)\n",
    "model.summary()"
   ]
  },
  {
   "cell_type": "code",
   "execution_count": 24,
   "id": "b8731f2c",
   "metadata": {
    "colab": {
     "base_uri": "https://localhost:8080/",
     "height": 313
    },
    "id": "b8731f2c",
    "outputId": "386bd726-f206-4327-c8d2-9e312b81f721",
    "pycharm": {
     "name": "#%%\n"
    }
   },
   "outputs": [
    {
     "output_type": "stream",
     "name": "stdout",
     "text": [
      "82/82 [==============================] - 0s 1ms/step\n"
     ]
    },
    {
     "output_type": "execute_result",
     "data": {
      "text/plain": [
       "Text(33.0, 0.5, 'Truth')"
      ]
     },
     "metadata": {},
     "execution_count": 24
    },
    {
     "output_type": "display_data",
     "data": {
      "text/plain": [
       "<Figure size 432x288 with 2 Axes>"
      ],
      "image/png": "[encoded data removed]"
     },
     "metadata": {
      "needs_background": "light"
     }
    }
   ],
   "source": [
    "y_prediction = model.predict(X_test)\n",
    "confuse = []\n",
    "for i in range (len(X_test)):\n",
    "    confuse.append(np.argmax(y_prediction[i]))\n",
    "conf_matrix = np.array(tf.math.confusion_matrix(labels=y_test, predictions=confuse))\n",
    "sb.heatmap(conf_matrix, annot=True, fmt='d')\n",
    "plt.xlabel('Predicted')\n",
    "plt.ylabel('Truth')"
   ]
  },
  {
   "cell_type": "code",
   "execution_count": 31,
   "id": "c58503d1",
   "metadata": {
    "colab": {
     "base_uri": "https://localhost:8080/",
     "height": 313
    },
    "id": "c58503d1",
    "outputId": "b6cc59d4-0e2a-4659-8e61-0d80aed8d93d",
    "pycharm": {
     "name": "#%%\n"
    }
   },
   "outputs": [
    {
     "output_type": "stream",
     "name": "stdout",
     "text": [
      "0.9496734537072609\n"
     ]
    },
    {
     "output_type": "execute_result",
     "data": {
      "text/plain": [
       "Text(33.0, 0.5, 'Truth')"
      ]
     },
     "metadata": {},
     "execution_count": 31
    },
    {
     "output_type": "display_data",
     "data": {
      "text/plain": [
       "<Figure size 432x288 with 2 Axes>"
      ],
      "image/png": "[encoded data removed]"
     },
     "metadata": {
      "needs_background": "light"
     }
    }
   ],
   "source": [
    "from sklearn.ensemble import RandomForestClassifier\n",
    "from sklearn.metrics import confusion_matrix, classification_report\n",
    "\n",
    "rf = RandomForestClassifier(max_depth=11, random_state=150)\n",
    "rf.fit(X_train, y_train)\n",
    "\n",
    "rfcm = confusion_matrix(y_test, rf.predict(X_test).flatten())\n",
    "print(rf.score(X_test, y_test))\n",
    "\n",
    "sb.heatmap(rfcm, annot=True, fmt='d')\n",
    "plt.xlabel('Predicted')\n",
    "plt.ylabel('Truth')"
   ]
  },
  {
   "cell_type": "code",
   "source": [
    "import xgboost as xgb\n",
    "\n",
    "xg = xgb.XGBClassifier(random_state=10000).fit(X_train, y_train)\n",
    "\n",
    "xgcm = confusion_matrix(y_test, xg.predict(X_test).flatten())\n",
    "print(xg.score(X_test, y_test))\n",
    "\n",
    "sb.heatmap(xgcm, annot=True, fmt='d')\n",
    "plt.xlabel('Predicted')\n",
    "plt.ylabel('Truth')"
   ],
   "metadata": {
    "colab": {
     "base_uri": "https://localhost:8080/",
     "height": 313
    },
    "id": "0JbbRuyeOPXK",
    "outputId": "3305c68e-8369-42d3-d083-aaebd2954c6f",
    "pycharm": {
     "name": "#%%\n"
    }
   },
   "id": "0JbbRuyeOPXK",
   "execution_count": 27,
   "outputs": [
    {
     "output_type": "stream",
     "name": "stdout",
     "text": [
      "0.9496734537072609\n"
     ]
    },
    {
     "output_type": "execute_result",
     "data": {
      "text/plain": [
       "Text(33.0, 0.5, 'Truth')"
      ]
     },
     "metadata": {},
     "execution_count": 27
    },
    {
     "output_type": "display_data",
     "data": {
      "text/plain": [
       "<Figure size 432x288 with 2 Axes>"
      ],
      "image/png": "[encoded data removed]"
     },
     "metadata": {
      "needs_background": "light"
     }
    }
   ]
  },
  {
   "cell_type": "markdown",
   "source": [
    "All 3 models predicted very accurately with accuracies over 94%. Random Forest and XGBoost perform identically on this data.\n"
   ],
   "metadata": {
    "id": "Do_7taA1PTJ9",
    "pycharm": {
     "name": "#%% md\n"
    }
   },
   "id": "Do_7taA1PTJ9"
  }
 ],
 "metadata": {
  "kernelspec": {
   "display_name": "Python 3.7 (tensorflow)",
   "language": "python",
   "name": "tensorflow"
  },
  "language_info": {
   "codemirror_mode": {
    "name": "ipython",
    "version": 3
   },
   "file_extension": ".py",
   "mimetype": "text/x-python",
   "name": "python",
   "nbconvert_exporter": "python",
   "pygments_lexer": "ipython3",
   "version": "3.8.13"
  },
  "colab": {
   "provenance": []
  }
 },
 "nbformat": 4,
 "nbformat_minor": 5
}