{
 "cells": [
  {
   "cell_type": "code",
   "execution_count": 1,
   "id": "fe3442ce",
   "metadata": {},
   "outputs": [
    {
     "name": "stdout",
     "output_type": "stream",
     "text": [
      "Requirement already satisfied: xgboost in /Users/huynhnhat/opt/anaconda3/envs/tensorflow/lib/python3.8/site-packages (1.6.2)\n",
      "Requirement already satisfied: numpy in /Users/huynhnhat/opt/anaconda3/envs/tensorflow/lib/python3.8/site-packages (from xgboost) (1.22.3)\n",
      "Requirement already satisfied: scipy in /Users/huynhnhat/opt/anaconda3/envs/tensorflow/lib/python3.8/site-packages (from xgboost) (1.7.3)\n",
      "Requirement already satisfied: seaborn in /Users/huynhnhat/opt/anaconda3/envs/tensorflow/lib/python3.8/site-packages (0.12.0)\n",
      "Requirement already satisfied: pandas>=0.25 in /Users/huynhnhat/opt/anaconda3/envs/tensorflow/lib/python3.8/site-packages (from seaborn) (1.4.2)\n",
      "Requirement already satisfied: numpy>=1.17 in /Users/huynhnhat/opt/anaconda3/envs/tensorflow/lib/python3.8/site-packages (from seaborn) (1.22.3)\n",
      "Requirement already satisfied: matplotlib>=3.1 in /Users/huynhnhat/opt/anaconda3/envs/tensorflow/lib/python3.8/site-packages (from seaborn) (3.5.1)\n",
      "Requirement already satisfied: pillow>=6.2.0 in /Users/huynhnhat/opt/anaconda3/envs/tensorflow/lib/python3.8/site-packages (from matplotlib>=3.1->seaborn) (9.0.1)\n",
      "Requirement already satisfied: fonttools>=4.22.0 in /Users/huynhnhat/opt/anaconda3/envs/tensorflow/lib/python3.8/site-packages (from matplotlib>=3.1->seaborn) (4.25.0)\n",
      "Requirement already satisfied: pyparsing>=2.2.1 in /Users/huynhnhat/opt/anaconda3/envs/tensorflow/lib/python3.8/site-packages (from matplotlib>=3.1->seaborn) (3.0.4)\n",
      "Requirement already satisfied: cycler>=0.10 in /Users/huynhnhat/opt/anaconda3/envs/tensorflow/lib/python3.8/site-packages (from matplotlib>=3.1->seaborn) (0.11.0)\n",
      "Requirement already satisfied: python-dateutil>=2.7 in /Users/huynhnhat/opt/anaconda3/envs/tensorflow/lib/python3.8/site-packages (from matplotlib>=3.1->seaborn) (2.8.2)\n",
      "Requirement already satisfied: kiwisolver>=1.0.1 in /Users/huynhnhat/opt/anaconda3/envs/tensorflow/lib/python3.8/site-packages (from matplotlib>=3.1->seaborn) (1.4.2)\n",
      "Requirement already satisfied: packaging>=20.0 in /Users/huynhnhat/opt/anaconda3/envs/tensorflow/lib/python3.8/site-packages (from matplotlib>=3.1->seaborn) (21.3)\n",
      "Requirement already satisfied: pytz>=2020.1 in /Users/huynhnhat/opt/anaconda3/envs/tensorflow/lib/python3.8/site-packages (from pandas>=0.25->seaborn) (2022.1)\n",
      "Requirement already satisfied: six>=1.5 in /Users/huynhnhat/opt/anaconda3/envs/tensorflow/lib/python3.8/site-packages (from python-dateutil>=2.7->matplotlib>=3.1->seaborn) (1.16.0)\n"
     ]
    }
   ],
   "source": [
    "import sys\n",
    "!{sys.executable} -m pip install xgboost\n",
    "!{sys.executable} -m pip install seaborn"
   ]
  },
  {
   "cell_type": "code",
   "execution_count": 2,
   "id": "bbe413b7",
   "metadata": {},
   "outputs": [],
   "source": [
    "import pandas as pd\n",
    "import numpy as np\n",
    "from sklearn.model_selection import train_test_split\n",
    "from sklearn import preprocessing\n",
    "import tensorflow as tf\n",
    "from tensorflow.keras.models import Sequential \n",
    "from tensorflow.keras.layers import Dense, Dropout\n",
    "from tensorflow.keras.layers import BatchNormalization\n",
    "from tensorflow.keras import optimizers\n",
    "from sklearn.metrics import confusion_matrix, classification_report\n",
    "from matplotlib import pyplot as plt\n",
    "import seaborn as sb"
   ]
  },
  {
   "cell_type": "code",
   "execution_count": 4,
   "id": "1e475a96",
   "metadata": {},
   "outputs": [],
   "source": [
    "load = pd.read_csv(\"CDC_2021.csv\", low_memory = False)\n",
    "df_fill_na = load.replace(r'^\\s*$', np.nan, regex=True)\n",
    "df = df_fill_na.dropna()\n",
    "df = df.applymap(str)\n",
    "names = ['SEXVAR', 'CHECKUP1', 'EXERANY2', 'TOLDHI3', 'CVDINFR4', 'CVDSTRK3', 'ASTHMA3', 'CHCOCNCR', 'CHCKDNY2', 'DIABETE4', 'DECIDE', 'DIFFWALK', 'SMOKE100', 'ECIGNOW1', 'ALCDAY5', '@_PHYS14D', '@_MENT14D', '@_AGEG5YR', 'HTM4', 'WTKG3', '@_FRTLT1A', '@_VEGLT1A']\n",
    "for name in names:\n",
    "    df = df.drop(df[df[name] == '7'].index)\n",
    "    df = df.drop(df[df[name] == '9'].index)\n",
    "    if name == 'CHECKUP1':\n",
    "        df = df.drop(df[df[name] == '8'].index)\n",
    "    elif name == 'ALCDAY5':\n",
    "        df = df.drop(df[df[name] == '777'].index)\n",
    "        df = df.drop(df[df[name] == '999'].index)\n",
    "        \n",
    "        df[name] = df[name].replace(['%s' % i for i in range(100, 108)],'1')\n",
    "        df[name] = df[name].replace(['%s' % i for i in range(200, 231)],'1')\n",
    "        df[name] = df[name].replace('888','0')\n",
    "    elif name == 'DIABETE4':\n",
    "        df = df.drop(df[df[name] == '2'].index)\n",
    "        df = df.drop(df[df[name] == '4'].index)\n",
    "        df[name] = df[name].replace('3','0')\n",
    "    elif name == 'CVDINFR4':\n",
    "        df[name] = df[name].replace('1','0')\n",
    "        df[name] = df[name].replace('2','1')\n",
    "\n",
    "\n",
    "df = df.drop([ 'PRIMINSR'], axis=1)\n",
    "new_df = df.groupby('CVDINFR4').sample(n=10000)"
   ]
  },
  {
   "cell_type": "code",
   "execution_count": 5,
   "id": "1dd13621",
   "metadata": {},
   "outputs": [
    {
     "name": "stdout",
     "output_type": "stream",
     "text": [
      "(15000, 21)\n"
     ]
    }
   ],
   "source": [
    "X = np.array(new_df.drop(\"CVDINFR4\", axis=1)).astype(np.float32)\n",
    "y = np.array(new_df[\"CVDINFR4\"]).astype(np.float32).flatten()\n",
    "\n",
    "X_train, X_test, y_train, y_test = train_test_split(X,y ,\n",
    "                                   random_state=104, \n",
    "                                   test_size=0.25, \n",
    "                                   shuffle=True)\n",
    "\n",
    "print(X_train.shape)"
   ]
  },
  {
   "cell_type": "code",
   "execution_count": 6,
   "id": "66d9c037",
   "metadata": {},
   "outputs": [
    {
     "name": "stderr",
     "output_type": "stream",
     "text": [
      "2022-10-15 02:27:36.925097: I tensorflow/compiler/jit/xla_cpu_device.cc:41] Not creating XLA devices, tf_xla_enable_xla_devices not set\n",
      "2022-10-15 02:27:36.925925: I tensorflow/core/platform/cpu_feature_guard.cc:142] This TensorFlow binary is optimized with oneAPI Deep Neural Network Library (oneDNN) to use the following CPU instructions in performance-critical operations:  AVX2 FMA\n",
      "To enable them in other operations, rebuild TensorFlow with the appropriate compiler flags.\n",
      "2022-10-15 02:27:37.020331: I tensorflow/compiler/mlir/mlir_graph_optimization_pass.cc:116] None of the MLIR optimization passes are enabled (registered 2)\n"
     ]
    },
    {
     "name": "stdout",
     "output_type": "stream",
     "text": [
      "Epoch 1/50\n",
      "469/469 [==============================] - 1s 783us/step - loss: 0.5479 - accuracy: 0.7235\n",
      "Epoch 2/50\n",
      "469/469 [==============================] - 0s 998us/step - loss: 0.5291 - accuracy: 0.7364\n",
      "Epoch 3/50\n",
      "469/469 [==============================] - 0s 769us/step - loss: 0.5159 - accuracy: 0.7450\n",
      "Epoch 4/50\n",
      "469/469 [==============================] - 0s 799us/step - loss: 0.5144 - accuracy: 0.7522\n",
      "Epoch 5/50\n",
      "469/469 [==============================] - 0s 791us/step - loss: 0.5167 - accuracy: 0.7487\n",
      "Epoch 6/50\n",
      "469/469 [==============================] - 0s 793us/step - loss: 0.5169 - accuracy: 0.7447\n",
      "Epoch 7/50\n",
      "469/469 [==============================] - 0s 794us/step - loss: 0.5270 - accuracy: 0.7342\n",
      "Epoch 8/50\n",
      "469/469 [==============================] - 1s 1ms/step - loss: 0.5143 - accuracy: 0.7458\n",
      "Epoch 9/50\n",
      "469/469 [==============================] - 0s 828us/step - loss: 0.5151 - accuracy: 0.7470\n",
      "Epoch 10/50\n",
      "469/469 [==============================] - 0s 799us/step - loss: 0.5188 - accuracy: 0.7449\n",
      "Epoch 11/50\n",
      "469/469 [==============================] - 0s 915us/step - loss: 0.5118 - accuracy: 0.7472\n",
      "Epoch 12/50\n",
      "469/469 [==============================] - 0s 906us/step - loss: 0.5156 - accuracy: 0.7455\n",
      "Epoch 13/50\n",
      "469/469 [==============================] - 0s 1ms/step - loss: 0.5159 - accuracy: 0.7492\n",
      "Epoch 14/50\n",
      "469/469 [==============================] - 0s 880us/step - loss: 0.5226 - accuracy: 0.7423\n",
      "Epoch 15/50\n",
      "469/469 [==============================] - 0s 925us/step - loss: 0.5137 - accuracy: 0.7474\n",
      "Epoch 16/50\n",
      "469/469 [==============================] - 0s 915us/step - loss: 0.5176 - accuracy: 0.7436\n",
      "Epoch 17/50\n",
      "469/469 [==============================] - 0s 865us/step - loss: 0.5096 - accuracy: 0.7501\n",
      "Epoch 18/50\n",
      "469/469 [==============================] - 0s 951us/step - loss: 0.5139 - accuracy: 0.7471\n",
      "Epoch 19/50\n",
      "469/469 [==============================] - 1s 1ms/step - loss: 0.5142 - accuracy: 0.7499\n",
      "Epoch 20/50\n",
      "469/469 [==============================] - 0s 1ms/step - loss: 0.5089 - accuracy: 0.7543\n",
      "Epoch 21/50\n",
      "469/469 [==============================] - 0s 811us/step - loss: 0.5096 - accuracy: 0.7478\n",
      "Epoch 22/50\n",
      "469/469 [==============================] - 0s 851us/step - loss: 0.5147 - accuracy: 0.7464\n",
      "Epoch 23/50\n",
      "469/469 [==============================] - 0s 858us/step - loss: 0.5060 - accuracy: 0.7556\n",
      "Epoch 24/50\n",
      "469/469 [==============================] - 0s 1ms/step - loss: 0.5001 - accuracy: 0.7567\n",
      "Epoch 25/50\n",
      "469/469 [==============================] - 0s 915us/step - loss: 0.5246 - accuracy: 0.7449\n",
      "Epoch 26/50\n",
      "469/469 [==============================] - 0s 840us/step - loss: 0.5083 - accuracy: 0.7519\n",
      "Epoch 27/50\n",
      "469/469 [==============================] - 0s 844us/step - loss: 0.5111 - accuracy: 0.7528\n",
      "Epoch 28/50\n",
      "469/469 [==============================] - 0s 821us/step - loss: 0.5106 - accuracy: 0.7528\n",
      "Epoch 29/50\n",
      "469/469 [==============================] - 1s 1ms/step - loss: 0.5130 - accuracy: 0.7498\n",
      "Epoch 30/50\n",
      "469/469 [==============================] - 0s 839us/step - loss: 0.5116 - accuracy: 0.7482\n",
      "Epoch 31/50\n",
      "469/469 [==============================] - 0s 813us/step - loss: 0.5060 - accuracy: 0.7522\n",
      "Epoch 32/50\n",
      "469/469 [==============================] - 0s 820us/step - loss: 0.5028 - accuracy: 0.7577\n",
      "Epoch 33/50\n",
      "469/469 [==============================] - 0s 841us/step - loss: 0.5122 - accuracy: 0.7492\n",
      "Epoch 34/50\n",
      "469/469 [==============================] - 0s 832us/step - loss: 0.5021 - accuracy: 0.7585\n",
      "Epoch 35/50\n",
      "469/469 [==============================] - 0s 834us/step - loss: 0.5027 - accuracy: 0.7559\n",
      "Epoch 36/50\n",
      "469/469 [==============================] - 0s 1ms/step - loss: 0.5123 - accuracy: 0.7491\n",
      "Epoch 37/50\n",
      "469/469 [==============================] - 0s 896us/step - loss: 0.5020 - accuracy: 0.7641\n",
      "Epoch 38/50\n",
      "469/469 [==============================] - 0s 839us/step - loss: 0.5062 - accuracy: 0.7546\n",
      "Epoch 39/50\n",
      "469/469 [==============================] - 0s 830us/step - loss: 0.5164 - accuracy: 0.7429\n",
      "Epoch 40/50\n",
      "469/469 [==============================] - 1s 1ms/step - loss: 0.5058 - accuracy: 0.7484\n",
      "Epoch 41/50\n",
      "469/469 [==============================] - 1s 2ms/step - loss: 0.5089 - accuracy: 0.7476\n",
      "Epoch 42/50\n",
      "469/469 [==============================] - 1s 1ms/step - loss: 0.5090 - accuracy: 0.7460\n",
      "Epoch 43/50\n",
      "469/469 [==============================] - 1s 2ms/step - loss: 0.5099 - accuracy: 0.7519\n",
      "Epoch 44/50\n",
      "469/469 [==============================] - 1s 1ms/step - loss: 0.5072 - accuracy: 0.7549\n",
      "Epoch 45/50\n",
      "469/469 [==============================] - 1s 1ms/step - loss: 0.5080 - accuracy: 0.7504\n",
      "Epoch 46/50\n",
      "469/469 [==============================] - 1s 1ms/step - loss: 0.5064 - accuracy: 0.7544\n",
      "Epoch 47/50\n",
      "469/469 [==============================] - 1s 1ms/step - loss: 0.5134 - accuracy: 0.7481\n",
      "Epoch 48/50\n",
      "469/469 [==============================] - 1s 1ms/step - loss: 0.5039 - accuracy: 0.7547\n",
      "Epoch 49/50\n",
      "469/469 [==============================] - 0s 906us/step - loss: 0.5019 - accuracy: 0.7538\n",
      "Epoch 50/50\n",
      "469/469 [==============================] - 0s 769us/step - loss: 0.5015 - accuracy: 0.7570\n"
     ]
    },
    {
     "data": {
      "text/plain": [
       "<tensorflow.python.keras.callbacks.History at 0x7f9f2bc59070>"
      ]
     },
     "execution_count": 6,
     "metadata": {},
     "output_type": "execute_result"
    }
   ],
   "source": [
    "model = Sequential([\n",
    "    BatchNormalization(),\n",
    "    Dense(21, activation = 'elu', name = 'first_layer'),\n",
    "    Dense(7, activation = 'selu', name = 'second_layer'),\n",
    "    Dense(2, activation = 'softmax', name = 'last_layer')\n",
    "])\n",
    "\n",
    "model.compile(\n",
    "    loss=tf.keras.losses.SparseCategoricalCrossentropy(from_logits=True),  \n",
    "    optimizer=tf.keras.optimizers.Adam(0.01), \n",
    "    metrics = ['accuracy']\n",
    ")\n",
    "\n",
    "model.fit(\n",
    "\n",
    "    X_train,y_train,\n",
    "    epochs= 50\n",
    ")"
   ]
  },
  {
   "cell_type": "code",
   "execution_count": 7,
   "id": "5fb4f0a7",
   "metadata": {},
   "outputs": [
    {
     "name": "stdout",
     "output_type": "stream",
     "text": [
      "157/157 [==============================] - 0s 733us/step - loss: 0.5074 - accuracy: 0.7504\n",
      "Model: \"sequential\"\n",
      "_________________________________________________________________\n",
      "Layer (type)                 Output Shape              Param #   \n",
      "=================================================================\n",
      "batch_normalization (BatchNo (None, 21)                84        \n",
      "_________________________________________________________________\n",
      "first_layer (Dense)          (None, 21)                462       \n",
      "_________________________________________________________________\n",
      "second_layer (Dense)         (None, 7)                 154       \n",
      "_________________________________________________________________\n",
      "last_layer (Dense)           (None, 2)                 16        \n",
      "=================================================================\n",
      "Total params: 716\n",
      "Trainable params: 674\n",
      "Non-trainable params: 42\n",
      "_________________________________________________________________\n"
     ]
    }
   ],
   "source": [
    "model.evaluate(X_test, y_test)\n",
    "model.summary()"
   ]
  },
  {
   "cell_type": "code",
   "execution_count": 8,
   "id": "c2c11fb1",
   "metadata": {},
   "outputs": [
    {
     "data": {
      "text/plain": [
       "Text(33.0, 0.5, 'Truth')"
      ]
     },
     "execution_count": 8,
     "metadata": {},
     "output_type": "execute_result"
    },
    {
     "data": {
      "image/png": "[encoded data removed]",
      "text/plain": [
       "<Figure size 432x288 with 2 Axes>"
      ]
     },
     "metadata": {
      "needs_background": "light"
     },
     "output_type": "display_data"
    }
   ],
   "source": [
    "y_prediction = model.predict(X_test)\n",
    "confuse = []\n",
    "for i in range (len(X_test)):\n",
    "    confuse.append(np.argmax(y_prediction[i]))\n",
    "conf_matrix = np.array(tf.math.confusion_matrix(labels=y_test, predictions=confuse))\n",
    "sb.heatmap(conf_matrix, annot=True, fmt='d')\n",
    "plt.xlabel('Predicted')\n",
    "plt.ylabel('Truth')"
   ]
  },
  {
   "cell_type": "code",
   "execution_count": 9,
   "id": "e72257b3",
   "metadata": {},
   "outputs": [
    {
     "name": "stdout",
     "output_type": "stream",
     "text": [
      "0.7494\n"
     ]
    },
    {
     "data": {
      "text/plain": [
       "Text(33.0, 0.5, 'Truth')"
      ]
     },
     "execution_count": 9,
     "metadata": {},
     "output_type": "execute_result"
    },
    {
     "data": {
      "image/png": "[encoded data removed]",
      "text/plain": [
       "<Figure size 432x288 with 2 Axes>"
      ]
     },
     "metadata": {
      "needs_background": "light"
     },
     "output_type": "display_data"
    }
   ],
   "source": [
    "from sklearn.ensemble import RandomForestClassifier\n",
    "from sklearn.metrics import confusion_matrix, classification_report\n",
    "\n",
    "rf = RandomForestClassifier(max_depth=12, random_state=150)\n",
    "rf.fit(X_train, y_train)\n",
    "\n",
    "rfcm = confusion_matrix(y_test, rf.predict(X_test).flatten())\n",
    "print(rf.score(X_test, y_test))\n",
    "\n",
    "sb.heatmap(rfcm, annot=True, fmt='d')\n",
    "plt.xlabel('Predicted')\n",
    "plt.ylabel('Truth')"
   ]
  },
  {
   "cell_type": "code",
   "execution_count": 10,
   "id": "8ebb01ae",
   "metadata": {},
   "outputs": [
    {
     "name": "stdout",
     "output_type": "stream",
     "text": [
      "0.7464\n"
     ]
    },
    {
     "data": {
      "text/plain": [
       "Text(33.0, 0.5, 'Truth')"
      ]
     },
     "execution_count": 10,
     "metadata": {},
     "output_type": "execute_result"
    },
    {
     "data": {
      "image/png": "[encoded data removed]",
      "text/plain": [
       "<Figure size 432x288 with 2 Axes>"
      ]
     },
     "metadata": {
      "needs_background": "light"
     },
     "output_type": "display_data"
    }
   ],
   "source": [
    "import xgboost as xgb\n",
    "\n",
    "xg = xgb.XGBClassifier(random_state=1000).fit(X_train, y_train)\n",
    "\n",
    "xgcm = confusion_matrix(y_test, xg.predict(X_test).flatten())\n",
    "print(xg.score(X_test, y_test))\n",
    "\n",
    "sb.heatmap(xgcm, annot=True, fmt='d')\n",
    "plt.xlabel('Predicted')\n",
    "plt.ylabel('Truth')"
   ]
  },
  {
   "cell_type": "markdown",
   "id": "173563b5",
   "metadata": {},
   "source": [
    "XGBoost has the highest true positive while neural network has highest true negative"
   ]
  },
  {
   "cell_type": "code",
   "execution_count": null,
   "id": "b2546cd4",
   "metadata": {},
   "outputs": [],
   "source": []
  }
 ],
 "metadata": {
  "kernelspec": {
   "display_name": "Python 3.7 (tensorflow)",
   "language": "python",
   "name": "tensorflow"
  },
  "language_info": {
   "codemirror_mode": {
    "name": "ipython",
    "version": 3
   },
   "file_extension": ".py",
   "mimetype": "text/x-python",
   "name": "python",
   "nbconvert_exporter": "python",
   "pygments_lexer": "ipython3",
   "version": "3.8.13"
  }
 },
 "nbformat": 4,
 "nbformat_minor": 5
}
